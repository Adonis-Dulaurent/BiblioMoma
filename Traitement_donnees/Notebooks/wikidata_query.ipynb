{
 "cells": [
  {
   "cell_type": "markdown",
   "metadata": {},
   "source": [
    "# Requêter Wikidata grâce à SPARQLWrapper"
   ]
  },
  {
   "cell_type": "markdown",
   "metadata": {},
   "source": [
    "#### Imports nécéssaires\n",
    "SPARQLWrapper est une bibliothèque Python qui facilite l'interaction avec des endpoints SPARQL pour interroger des bases de données RDF. Elle sert d’interface entre Python et des bases de connaissances comme Wikidata, DBpedia ou d'autres triplestores compatibles avec SPARQL."
   ]
  },
  {
   "cell_type": "code",
   "execution_count": 2,
   "metadata": {},
   "outputs": [],
   "source": [
    "import time\n",
    "import random\n",
    "import json\n",
    "\n",
    "import pandas as pd\n",
    "from SPARQLWrapper import SPARQLWrapper, JSON"
   ]
  },
  {
   "cell_type": "markdown",
   "metadata": {},
   "source": [
    "#### Ouvrir le JSON et vérifier rapidement son contenu"
   ]
  },
  {
   "cell_type": "code",
   "execution_count": 4,
   "metadata": {},
   "outputs": [
    {
     "data": {
      "text/plain": [
       "[{'key': '/works/OL145191W',\n",
       "  'title': 'Picasso',\n",
       "  'authors': [{'key': '/authors/OL44790A', 'name': 'Pablo Picasso'},\n",
       "   {'key': '/authors/OL3225101A', 'name': 'Jean-Louis Andral'},\n",
       "   {'key': '/authors/OL139551A', 'name': 'Pierre Daix'}],\n",
       "  'first_publish_year': 1926,\n",
       "  'wikidataSubjectID': ['Q42934', 'Q38166'],\n",
       "  'wikidataArtistID': []},\n",
       " {'key': '/works/OL495761W',\n",
       "  'title': 'Evangeline',\n",
       "  'authors': [{'key': '/authors/OL33009A',\n",
       "    'name': 'Henry Wadsworth Longfellow'}],\n",
       "  'first_publish_year': 1847,\n",
       "  'wikidataSubjectID': [],\n",
       "  'wikidataArtistID': []},\n",
       " {'key': '/works/OL14877882W',\n",
       "  'title': 'Salomé',\n",
       "  'authors': [{'key': '/authors/OL20646A', 'name': 'Oscar Wilde'}],\n",
       "  'first_publish_year': 1893,\n",
       "  'wikidataSubjectID': [],\n",
       "  'wikidataArtistID': []}]"
      ]
     },
     "execution_count": 4,
     "metadata": {},
     "output_type": "execute_result"
    }
   ],
   "source": [
    "with open(\"enriched_openlibrary.json\", \"r\", encoding=\"utf-8\") as f:\n",
    "    data = json.load(f)\n",
    "\n",
    "data[3:6]"
   ]
  },
  {
   "cell_type": "markdown",
   "metadata": {},
   "source": [
    "#### Extraire les IDs OpenLibrary des auteurs"
   ]
  },
  {
   "cell_type": "code",
   "execution_count": 25,
   "metadata": {},
   "outputs": [
    {
     "name": "stdout",
     "output_type": "stream",
     "text": [
      "12392 auteurs trouvés\n"
     ]
    }
   ],
   "source": [
    "all_author_ids = list(set(\n",
    "    author[\"key\"].split(\"/\")[-1]  # Extraire l'ID après \"/authors/\"\n",
    "    for work in data for author in work.get(\"authors\", []) if work.get(\"wikidataSubjectID\") or work.get(\"wikidataArtistID\")\n",
    "))\n",
    "\n",
    "print(f\"{len(all_author_ids)} auteurs trouvés\")\n"
   ]
  },
  {
   "cell_type": "markdown",
   "metadata": {},
   "source": [
    "#### Regroupement des ID par chunks pour faciliter le requêtage de Wikidata"
   ]
  },
  {
   "cell_type": "code",
   "execution_count": 26,
   "metadata": {},
   "outputs": [
    {
     "name": "stdout",
     "output_type": "stream",
     "text": [
      "124\n"
     ]
    }
   ],
   "source": [
    "chunks = [all_author_ids[x:x+100] for x in range(0, len(all_author_ids), 100)]\n",
    "print(len(chunks))"
   ]
  },
  {
   "cell_type": "markdown",
   "metadata": {},
   "source": [
    "#### Configuration du point d'accès SPARQL"
   ]
  },
  {
   "cell_type": "code",
   "execution_count": 27,
   "metadata": {},
   "outputs": [],
   "source": [
    "sparql = SPARQLWrapper(\"https://query.wikidata.org/sparql\")"
   ]
  },
  {
   "cell_type": "markdown",
   "metadata": {},
   "source": [
    "#### Définition de la fonction de requêtage\n",
    "La fonction `get_wikidata_info_batch(values)` interroge Wikidata pour récupérer des informations sur une liste d’auteurs identifiés par leur identifiant Open Library (P648). Elle exécute une requête SPARQL pour extraire l'ID Wikidata, le genre, la date de naissance, la date de décès (si disponible) et la nationalité des auteurs, puis formate ces données dans un dictionnaire où chaque clé correspond à un identifiant Open Library."
   ]
  },
  {
   "cell_type": "code",
   "execution_count": 28,
   "metadata": {},
   "outputs": [],
   "source": [
    "def get_wikidata_info_batch(values):\n",
    "    \"\"\" Interroge Wikidata pour récupérer les infos d'une liste d'auteurs \"\"\"\n",
    "    query = f\"\"\"\n",
    "    SELECT ?artist ?artistLabel ?birth ?death ?gender ?genderLabel ?country ?countryLabel ?ol_id\n",
    "    WHERE {{\n",
    "      VALUES ?ol_id {{ { values } }}\n",
    "      ?artist wdt:P648 ?ol_id;\n",
    "              wdt:P21 ?gender;\n",
    "              wdt:P569 ?birth.\n",
    "      OPTIONAL {{ ?artist wdt:P570 ?death. }}\n",
    "      OPTIONAL {{ ?artist wdt:P27 ?country. }}\n",
    "      SERVICE wikibase:label {{ bd:serviceParam wikibase:language \"en\". }}\n",
    "    }}\n",
    "    \"\"\"\n",
    "    sparql.setQuery(query)\n",
    "    sparql.setReturnFormat(JSON)\n",
    "    \n",
    "    results = sparql.query().convert()\n",
    "    \n",
    "    author_info = {}\n",
    "    for item in results['results']['bindings']:\n",
    "        ol_id = item[\"ol_id\"][\"value\"]\n",
    "        author_info[ol_id] = {\n",
    "            \"wikidataID\": item[\"artist\"][\"value\"].split(sep=\"/\")[-1],\n",
    "            \"gender\": item[\"genderLabel\"][\"value\"],\n",
    "            \"genderId\": item[\"gender\"][\"value\"].split(sep=\"/\")[-1],\n",
    "            \"birthdate\": item[\"birth\"][\"value\"],\n",
    "            \"deathdate\": item.get(\"death\", {}).get(\"value\", \"\"), \n",
    "            \"countrycitizenship\": {\n",
    "                entry[\"country\"][\"value\"].split(sep=\"/\")[-1]: entry[\"countryLabel\"][\"value\"]\n",
    "                for entry in results['results']['bindings'] if \"country\" in entry\n",
    "            }\n",
    "        }\n",
    "    return author_info"
   ]
  },
  {
   "cell_type": "markdown",
   "metadata": {},
   "source": [
    "#### Requêtage\n",
    "Ce code récupère des informations sur des auteurs en batch à partir de Wikidata et les stocke dans un fichier JSON. Il parcourt des listes d'ID (chunks), construit une requête pour chaque groupe d'ID, interroge Wikidata via get_wikidata_info_batch(), ajoute les résultats à author_data, puis attend un temps aléatoire (entre 6 et 12 secondes) avant de continuer pour éviter de surcharger l'API. Enfin, les données sont enregistrées dans ol_authors_info.json avec un format lisible (indent=4)."
   ]
  },
  {
   "cell_type": "code",
   "execution_count": 29,
   "metadata": {},
   "outputs": [],
   "source": [
    "author_data = []\n",
    "sleep_options = [6, 8, 10, 12]\n",
    "option = random.choice\n",
    "\n",
    "for id_list in chunks:\n",
    "    values = ' '.join(f'\"{id}\"' for id in id_list)\n",
    "    author_info = get_wikidata_info_batch(values)\n",
    "    author_data.append(author_info)\n",
    "    option = random.choice(sleep_options)\n",
    "    time.sleep(option)\n",
    "\n",
    "with open(\"ol_authors_info.json\", \"w\") as f:\n",
    "    json.dump(author_data, f, indent=4)\n"
   ]
  },
  {
   "cell_type": "markdown",
   "metadata": {},
   "source": [
    "#### Enregistrement et comptage"
   ]
  },
  {
   "cell_type": "code",
   "execution_count": 32,
   "metadata": {},
   "outputs": [
    {
     "name": "stdout",
     "output_type": "stream",
     "text": [
      "916\n"
     ]
    }
   ],
   "source": [
    "with open('ol_authors_info.json', 'r') as f:\n",
    "    data = json.load(f)\n",
    "\n",
    "count = []\n",
    "for chunk in data: \n",
    "    count.append((len(chunk)))\n",
    "\n",
    "print(sum(count))"
   ]
  }
 ],
 "metadata": {
  "kernelspec": {
   "display_name": ".venv",
   "language": "python",
   "name": "python3"
  },
  "language_info": {
   "codemirror_mode": {
    "name": "ipython",
    "version": 3
   },
   "file_extension": ".py",
   "mimetype": "text/x-python",
   "name": "python",
   "nbconvert_exporter": "python",
   "pygments_lexer": "ipython3",
   "version": "3.10.12"
  }
 },
 "nbformat": 4,
 "nbformat_minor": 2
}
