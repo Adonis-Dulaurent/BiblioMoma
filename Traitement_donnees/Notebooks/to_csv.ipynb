{
 "cells": [
  {
   "cell_type": "code",
   "execution_count": 2,
   "metadata": {},
   "outputs": [],
   "source": [
    "import csv\n",
    "import itertools\n",
    "import json"
   ]
  },
  {
   "cell_type": "code",
   "execution_count": 3,
   "metadata": {},
   "outputs": [
    {
     "name": "stdout",
     "output_type": "stream",
     "text": [
      "CSV généré: output.csv\n"
     ]
    }
   ],
   "source": [
    "with open(\"enriched_openlibrary.json\", \"r\", encoding=\"utf-8\") as f:\n",
    "    data = json.load(f)\n",
    "\n",
    "# Transformation en produit cartésien\n",
    "csv_rows = []\n",
    "for work in data:\n",
    "    authors = work.get(\"authors\", [])\n",
    "    subjects = work.get(\"wikidataSubjectID\", [])\n",
    "    artists = work.get(\"wikidataArtistID\", [])\n",
    "    \n",
    "    # On s'assure qu'il y a au moins une valeur pour le produit cartésien\n",
    "    authors = authors if authors else [{\"key\": \"\", \"name\": \"\"}]\n",
    "    subjects = subjects if subjects else [\"\"]\n",
    "    artists = artists if artists else [\"\"]\n",
    "    \n",
    "    for author, subject, artist in itertools.product(authors, subjects, artists):\n",
    "        csv_rows.append([\n",
    "            str(work[\"key\"]).split(sep='/')[-1],\n",
    "            work[\"title\"],\n",
    "            str(author[\"key\"]).split(sep='/')[-1],\n",
    "            author[\"name\"],\n",
    "            work[\"first_publish_year\"],\n",
    "            subject,\n",
    "            artist\n",
    "        ])\n",
    "\n",
    "# Export en CSV\n",
    "csv_filename = \"output.csv\"\n",
    "with open(csv_filename, mode=\"w\", newline=\"\", encoding=\"utf-8\") as file:\n",
    "    writer = csv.writer(file)\n",
    "    writer.writerow([\"OLKey\", \"Title\", \"AuthorKey\", \"AuthorName\", \"FirstPublishYear\", \"WikidataSubjectID\", \"WikidataArtistID\"])\n",
    "    writer.writerows(csv_rows)\n",
    "\n",
    "print(f\"CSV généré: {csv_filename}\")\n"
   ]
  },
  {
   "cell_type": "code",
   "execution_count": 3,
   "metadata": {},
   "outputs": [],
   "source": [
    "with open(\"ol_authors_info.json\", \"r\", encoding=\"utf-8\") as f:\n",
    "    authors_data = json.load(f)"
   ]
  },
  {
   "cell_type": "code",
   "execution_count": 36,
   "metadata": {},
   "outputs": [
    {
     "name": "stdout",
     "output_type": "stream",
     "text": [
      "CSV généré\n"
     ]
    }
   ],
   "source": [
    "csv_rows = []\n",
    "\n",
    "for item in authors_data:\n",
    "    for key, value in item.items():\n",
    "\n",
    "        csv_rows.append([\n",
    "            key,\n",
    "            value.get(\"wikidataID\"),\n",
    "            value.get(\"gender\"),\n",
    "            value.get(\"genderId\"),\n",
    "            value.get(\"birthdate\"),\n",
    "            value.get(\"deathdate\", \"\"),\n",
    "        ])\n",
    "\n",
    "        \n",
    "\n",
    "with open(\"authors.csv\", \"w\", newline=\"\") as f:\n",
    "    writer = csv.writer(f)\n",
    "    writer.writerow([\"OLKey\", \"WikidataID\", \"AuthorGender\", \"genderID\", \"AuthorBirthDate\", \"AuthorDeathDate\"])\n",
    "    writer.writerows(csv_rows)\n",
    "\n",
    "print(f\"CSV généré\")\n",
    "\n",
    "\n"
   ]
  }
 ],
 "metadata": {
  "kernelspec": {
   "display_name": ".venv",
   "language": "python",
   "name": "python3"
  },
  "language_info": {
   "codemirror_mode": {
    "name": "ipython",
    "version": 3
   },
   "file_extension": ".py",
   "mimetype": "text/x-python",
   "name": "python",
   "nbconvert_exporter": "python",
   "pygments_lexer": "ipython3",
   "version": "3.10.12"
  }
 },
 "nbformat": 4,
 "nbformat_minor": 2
}
