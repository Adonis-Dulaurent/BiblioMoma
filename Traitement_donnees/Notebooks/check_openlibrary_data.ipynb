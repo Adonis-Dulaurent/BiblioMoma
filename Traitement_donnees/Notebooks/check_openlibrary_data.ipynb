{
 "cells": [
  {
   "cell_type": "code",
   "execution_count": null,
   "metadata": {},
   "outputs": [],
   "source": [
    "import json\n",
    "import pandas as pd"
   ]
  },
  {
   "cell_type": "code",
   "execution_count": 15,
   "metadata": {},
   "outputs": [
    {
     "name": "stdout",
     "output_type": "stream",
     "text": [
      "✅ JSON d'origine et modifié ont le même nombre d'entrées (116761)\n"
     ]
    }
   ],
   "source": [
    "# Ouverture et conversion des fichiers concernés en objets python\n",
    "df1 = pd.read_csv(\"distinct_mouvement.csv\") \n",
    "df2 = pd.read_csv(\"Artists.csv\") \n",
    "with open(\"art_subject_data.json\", \"r\") as f:\n",
    "    data = json.load(f)\n",
    "\n",
    "# Pour des DataFrames df1 et df2, création de sets de paires clés-valeurs pour associer chaque terme à son identifiant Wikidata, et pouvoir y accéder facilement plus tard\n",
    "movement_dict = {row[\"mouvementLabel\"].lower(): row[\"WikiId\"] for _, row in df1.dropna(subset=[\"WikiId\"]).iterrows()}\n",
    "artist_dict = {row[\"DisplayName\"].lower(): row[\"Wiki QID\"] for _, row in df2.dropna(subset=[\"Wiki QID\"]).iterrows() if \" \" in row[\"DisplayName\"]}\n",
    "\n",
    "\n",
    "# Initialisation d'une liste vide utile pour y ajouter les entrées préparées et enrichies\n",
    "filtered_data = [] \n",
    "\n",
    "\n",
    "# Parcours du JSON d'OpenLibrary \n",
    "for item in data:\n",
    "    subjects = item.get(\"subject\", []) \n",
    "    if not isinstance(subjects, list): \n",
    "        continue\n",
    "\n",
    "    title = item.get(\"title\", \"\").lower()\n",
    "\n",
    "    # Recherche de matchs \n",
    "    subject_matches = [movement_dict[subject.lower()] for subject in subjects if subject.lower() in movement_dict] # Entre les mouvements artistiques Wikidata et les Subjects d'OpenLibrary\n",
    "    artist_matches = [artist_dict[artist] for artist in artist_dict if artist in title] # Entre les noms d'artistes du dataset du MoMA et les titres des ouvrages d'OpenLibrary\n",
    "\n",
    "    # Création de nouveaux dictionnaires enrichis des identifiants wikidata correspondants s'ils existent\n",
    "    new_item = {\n",
    "        \"key\": item.get(\"key\"),\n",
    "        \"title\": item.get(\"title\"),\n",
    "        \"authors\": item.get(\"authors\"),\n",
    "        \"first_publish_year\": item.get(\"first_publish_year\"),\n",
    "        \"wikidataSubjectID\": subject_matches, \n",
    "        \"wikidataArtistID\": artist_matches  \n",
    "    }\n",
    "\n",
    "    filtered_data.append(new_item)\n",
    "\n",
    "\n",
    "# Dump de la liste enrichie dans un fichier JSON et vérifications\n",
    "with open(\"enriched_openlibrary.json\", \"w\", encoding=\"utf-8\") as f:\n",
    "    json.dump(filtered_data, f, indent=4, ensure_ascii=False)\n",
    "\n",
    "if len(filtered_data) == len(data):\n",
    "    print(f\"✅ JSON d'origine et modifié ont le même nombre d'entrées ({len(filtered_data)})\")\n",
    "else:\n",
    "    print(f\"⚠ Erreur : Nombre d'entrées différent.\\nOriginal : {len(data)}\\nModifié : {len(filtered_data)}\")\n"
   ]
  }
 ],
 "metadata": {
  "kernelspec": {
   "display_name": ".venv",
   "language": "python",
   "name": "python3"
  },
  "language_info": {
   "codemirror_mode": {
    "name": "ipython",
    "version": 3
   },
   "file_extension": ".py",
   "mimetype": "text/x-python",
   "name": "python",
   "nbconvert_exporter": "python",
   "pygments_lexer": "ipython3",
   "version": "3.10.12"
  }
 },
 "nbformat": 4,
 "nbformat_minor": 2
}
